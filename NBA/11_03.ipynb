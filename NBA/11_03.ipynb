{
 "cells": [
  {
   "cell_type": "markdown",
   "metadata": {},
   "source": [
    "# 0. NBA"
   ]
  },
  {
   "cell_type": "code",
   "execution_count": 4,
   "metadata": {},
   "outputs": [],
   "source": [
    "import pandas as pd\n",
    "from nba_api.stats.endpoints import playercareerstats\n",
    "from nba_api.live.nba.endpoints import scoreboard\n",
    "from  nba_api.stats.endpoints  import  playercareerstats \n",
    "import requests\n",
    "import time\n",
    "from bs4 import BeautifulSoup\n",
    "import pandas as pd\n",
    "import numpy as np"
   ]
  },
  {
   "cell_type": "markdown",
   "metadata": {},
   "source": [
    "# 1. 크롤링"
   ]
  },
  {
   "cell_type": "code",
   "execution_count": 5,
   "metadata": {},
   "outputs": [],
   "source": [
    "def crawring(x):\n",
    "    url = x\n",
    "    response = requests.get(url)\n",
    "    content = response.content\n",
    "    soup = BeautifulSoup(content, 'html.parser')\n",
    "\n",
    "    table = soup.find(\"table\", {\"class\":\"hh-salaries-ranking-table hh-salaries-table-sortable responsive\"})\n",
    "    tbody = table.find(\"tbody\")\n",
    "    tr_list = tbody.find_all(\"tr\")\n",
    "    concat_list = []\n",
    "    td_list = []\n",
    "    td1_list = []\n",
    "    td2_list = []\n",
    "    for tr in tr_list:\n",
    "        td_list = tr.find_all(\"td\", {\"class\":\"rank\"})\n",
    "        td_list1 = tr.find_all(\"td\", {\"class\":\"name\"})\n",
    "        td_list2 = tr.find_all(\"td\", {\"class\":\"value\"})\n",
    "        for td,td1,td2 in zip(td_list,td_list1,td_list2):\n",
    "            td_list.append(td.text.strip())\n",
    "            td1_list.append(td1.text.strip())\n",
    "            td2_list.append(td2.text.strip())\n",
    "\n",
    "    team18_19 =  pd.DataFrame([td1_list,td2_list],index=['team','status']).T\n",
    "    return team18_19"
   ]
  },
  {
   "cell_type": "code",
   "execution_count": 16,
   "metadata": {},
   "outputs": [],
   "source": [
    "east = ['Atlanta Hawks','Boston Celtics','Brooklyn Nets','Charlotte Hornets','Chicago Bulls','Cleveland Cavaliers','Detroit Pistons',\n",
    "'Indiana Pacers','Miami Heat','Milwaukee Bucks','New York Knicks','Orlando Magic',\n",
    "'Philadelphia 76ers','Toronto Raptors','Washington Wizards']"
   ]
  },
  {
   "cell_type": "code",
   "execution_count": 2,
   "metadata": {},
   "outputs": [],
   "source": [
    "west = ['Dallas Mavericks','Denver Nuggets','Golden State Warriors','Houston Rockets','Los Angeles Clippers','Los Angeles Lakers',\n",
    "'Memphis Grizzlies','Minnesota Timberwolves','New Orleans Pelicans','Oklahoma City Thunder','Phoenix Suns',\n",
    "'Portland Trail Blazers','Sacramento Kings','San Antonio Spurs','Utah Jazz']"
   ]
  },
  {
   "cell_type": "code",
   "execution_count": 14,
   "metadata": {},
   "outputs": [],
   "source": [
    "team22_23List = []\n",
    "for i in west:\n",
    "    temp = i.lower()\n",
    "    temp = temp.replace(\" \",\"_\")\n",
    "    i = crawring(f'https://hoopshype.com/nba2k/{temp}/2018-2019/')\n",
    "    team22_23List.append(i)"
   ]
  },
  {
   "cell_type": "code",
   "execution_count": 15,
   "metadata": {},
   "outputs": [],
   "source": [
    "for i,j in zip(west,range(0,15)):\n",
    "    # team23_23List[2]\n",
    "    team22_23List[j].to_csv(f'{i}18_19.csv')"
   ]
  },
  {
   "cell_type": "code",
   "execution_count": 31,
   "metadata": {},
   "outputs": [],
   "source": [
    "\n",
    "# col 생략 없이 출력\n",
    "pd.set_option('display.max_columns', None)"
   ]
  }
 ],
 "metadata": {
  "kernelspec": {
   "display_name": "Python 3.9.12 ('base')",
   "language": "python",
   "name": "python3"
  },
  "language_info": {
   "codemirror_mode": {
    "name": "ipython",
    "version": 3
   },
   "file_extension": ".py",
   "mimetype": "text/x-python",
   "name": "python",
   "nbconvert_exporter": "python",
   "pygments_lexer": "ipython3",
   "version": "3.9.12"
  },
  "orig_nbformat": 4,
  "vscode": {
   "interpreter": {
    "hash": "ad2bdc8ecc057115af97d19610ffacc2b4e99fae6737bb82f5d7fb13d2f2c186"
   }
  }
 },
 "nbformat": 4,
 "nbformat_minor": 2
}
