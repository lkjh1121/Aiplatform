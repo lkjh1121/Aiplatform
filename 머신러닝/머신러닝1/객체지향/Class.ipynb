{
 "cells": [
  {
   "cell_type": "markdown",
   "metadata": {},
   "source": [
    "## Class\n",
    " - 클래스는 설계도이다.<br/>\n",
    " - 클래스 안에는 변수와 함수를 둘 수 있다.<br/>\n",
    " - 클래스 안에는 연관성 있는 변수와 함수를 두고 그 자체로 <br/>\n",
    " - 사용하는 것이 아니라 실체를 만들어야 한다.<br/>\n",
    " - 이 때 실체를 객체 또는 인스턴스라고 부른다<br/>\n",
    " - 자바에서는 클래스는 무조건 객체를 만들지 않으면 사용불가 그러나<br/>\n",
    " - 파이썬은 클래스 자체도 메모리가 있다. 클래스 변수와 객체변수가 다르다<br/>\n",
    " - (메모리를 엄청나게 절약하낟. 같은 기법 C#에 존재, 98%의 소스를 날린다.)\n",
    "\n",
    "class Person:<br/>\n",
    "    name=\"홍길동\"   # 메모리가 확보된다.<br/>\n",
    "    age=23          # 메모리가 확보된다.<br/>\n",
    "<br/>\n",
    "print(Person.name) # 다른언어에서는 name공간과 age 공간이 안 만들어져서<br/>\n",
    "print(Person.age)  # 에러 발생한다.\n"
   ]
  }
 ],
 "metadata": {
  "kernelspec": {
   "display_name": "Python 3.10.6 64-bit",
   "language": "python",
   "name": "python3"
  },
  "language_info": {
   "name": "python",
   "version": "3.10.6"
  },
  "orig_nbformat": 4,
  "vscode": {
   "interpreter": {
    "hash": "27f6fea6f47ae512550f0b8facdbd035a93e1dd89633f7bf2dd00a2502c71d0d"
   }
  }
 },
 "nbformat": 4,
 "nbformat_minor": 2
}
