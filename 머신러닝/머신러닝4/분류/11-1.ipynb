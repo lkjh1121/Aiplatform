{
 "cells": [
  {
   "cell_type": "markdown",
   "metadata": {},
   "source": [
    "## 손글씨 정확도 예측\n",
    "- 의사결정트리, 로지스틱, 랜덤포레스트 등을 사용하여 정확도를 추정하자."
   ]
  },
  {
   "cell_type": "code",
   "execution_count": 7,
   "metadata": {},
   "outputs": [
    {
     "name": "stderr",
     "output_type": "stream",
     "text": [
      "C:\\Users\\ASUS\\AppData\\Roaming\\Python\\Python39\\site-packages\\sklearn\\linear_model\\_logistic.py:444: ConvergenceWarning: lbfgs failed to converge (status=1):\n",
      "STOP: TOTAL NO. of ITERATIONS REACHED LIMIT.\n",
      "\n",
      "Increase the number of iterations (max_iter) or scale the data as shown in:\n",
      "    https://scikit-learn.org/stable/modules/preprocessing.html\n",
      "Please also refer to the documentation for alternative solver options:\n",
      "    https://scikit-learn.org/stable/modules/linear_model.html#logistic-regression\n",
      "  n_iter_i = _check_optimize_result(\n"
     ]
    },
    {
     "name": "stdout",
     "output_type": "stream",
     "text": [
      "로지스틱 회귀분석-------\n",
      "훈련셋 :  1.0\n",
      "테스트셋 :  0.9574074074074074\n",
      "디시젼트리 회귀분석-------\n",
      "훈련셋 :  1.0\n",
      "테스트셋 :  0.8574074074074074\n",
      "랜덤포레스트 회귀분석-------\n",
      "훈련셋 :  0.9713603818615751\n",
      "테스트셋 :  0.9425925925925925\n",
      "최적의 파라미터 {'max_depth': 16, 'min_samples_leaf': 1, 'min_samples_split': 2, 'n_estimators': 100}\n",
      "최고의 예측 정확도 0.9626201229329742\n",
      "그라디언트 부스팅-------\n",
      "훈련셋 :  0.9801113762927606\n",
      "테스트셋 :  0.9333333333333333\n"
     ]
    }
   ],
   "source": [
    "from matplotlib.streamplot import Grid\n",
    "from sklearn.datasets import load_digits\n",
    "from sklearn.model_selection import train_test_split\n",
    "from sklearn.linear_model import LogisticRegression\n",
    "\n",
    "cancer = load_digits()\n",
    "cancer_data = cancer['data']\n",
    "cancer_target = cancer['target']\n",
    "X_train, X_test, y_train, y_test = train_test_split(cancer_data, cancer_target, test_size=0.3, random_state=11)\n",
    "\n",
    "model = LogisticRegression()\n",
    "model.fit(X_train, y_train)\n",
    "y_pred = model.predict(X_test)\n",
    "\n",
    "print(\"로지스틱 회귀분석-------\")\n",
    "print(\"훈련셋 : \", model.score(X_train, y_train))\n",
    "print(\"테스트셋 : \", model.score(X_test, y_test))\n",
    "\n",
    "from sklearn.tree import DecisionTreeClassifier\n",
    "model = DecisionTreeClassifier()\n",
    "model.fit(X_train, y_train)\n",
    "y_pred = model.predict(X_test)\n",
    "\n",
    "print(\"디시젼트리 회귀분석-------\")\n",
    "print(\"훈련셋 : \", model.score(X_train, y_train))\n",
    "print(\"테스트셋 : \", model.score(X_test, y_test))\n",
    "\n",
    "from sklearn.ensemble import RandomForestClassifier\n",
    "model = RandomForestClassifier(random_state=0, max_depth=5, n_estimators=100)\n",
    "model.fit(X_train, y_train)\n",
    "y_pred = model.predict(X_test)\n",
    "\n",
    "print(\"랜덤포레스트 회귀분석-------\")\n",
    "print(\"훈련셋 : \", model.score(X_train, y_train))\n",
    "print(\"테스트셋 : \", model.score(X_test, y_test))\n",
    "\n",
    "\n",
    "# 랜덤포레스트의 하이퍼 파라미터 튜닝\n",
    "from sklearn.model_selection import GridSearchCV\n",
    "grid_params = {\n",
    "    'max_depth':[8,16,24],\n",
    "    'min_samples_leaf':[1,6,12],\n",
    "    'min_samples_split':[2,8,16],\n",
    "    'n_estimators':[10, 50, 100]\n",
    "}\n",
    "# n_jobs : 시스템 내의 프로세서\n",
    "model = RandomForestClassifier(random_state=0, n_jobs=-1)\n",
    "grid_cv = GridSearchCV(model, param_grid = grid_params, cv=2, n_jobs=-1)\n",
    "grid_cv.fit(X_train, y_train)\n",
    "\n",
    "print(\"최적의 파라미터\", grid_cv.best_params_)\n",
    "print(\"최고의 예측 정확도\", grid_cv.best_score_)\n",
    "\n",
    "# 그라디언트 부스팅\n",
    "from sklearn.ensemble import GradientBoostingClassifier\n",
    "\n",
    "model = GradientBoostingClassifier(random_state=0, max_depth=1)\n",
    "model.fit(X_train, y_train)\n",
    "print(\"그라디언트 부스팅-------\")\n",
    "print(\"훈련셋 : \", model.score(X_train, y_train))\n",
    "print(\"테스트셋 : \", model.score(X_test, y_test))"
   ]
  }
 ],
 "metadata": {
  "kernelspec": {
   "display_name": "Python 3.9.12 ('base')",
   "language": "python",
   "name": "python3"
  },
  "language_info": {
   "codemirror_mode": {
    "name": "ipython",
    "version": 3
   },
   "file_extension": ".py",
   "mimetype": "text/x-python",
   "name": "python",
   "nbconvert_exporter": "python",
   "pygments_lexer": "ipython3",
   "version": "3.9.12"
  },
  "orig_nbformat": 4,
  "vscode": {
   "interpreter": {
    "hash": "a90aeebcf29d64a654773811cc170cb25061cb2498f10ac689db374c7bf325de"
   }
  }
 },
 "nbformat": 4,
 "nbformat_minor": 2
}
