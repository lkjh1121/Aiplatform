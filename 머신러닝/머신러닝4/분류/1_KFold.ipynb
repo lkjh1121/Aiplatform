{
 "cells": [
  {
   "cell_type": "markdown",
   "metadata": {},
   "source": [
    "## DecisionTreeClassifier"
   ]
  },
  {
   "cell_type": "code",
   "execution_count": null,
   "metadata": {},
   "outputs": [],
   "source": [
    "from sklearn.datasets import load_iris\n",
    "from sklearn.model_selection import train_test_split\n",
    "from sklearn.tree import DecisionTreeClassifier\n",
    "import pandas as pd\n",
    "import numpy as np\n",
    "import matplotlib.pyplot as plt\n",
    "\n",
    "# 1. 분류 데이터셋을 가져온다(1, 2, 3, 4중에 어디에 해당되는가? => 분류)\n",
    "iris = load_iris()\n",
    "\n",
    "# 2. 데이터 확인해보기\n",
    "print(iris.keys())\n",
    "print(iris['data'][:10, :]) # numpy형태로, 슬라이싱이 가능하다 - 데이터 프레임의 head(10)과 같은 역할\n",
    "print(iris['data'].shape) # 데이터 전체 크기 확인\n",
    "\n",
    "df = pd.DataFrame(iris['data'], columns = iris['feature_names'])\n",
    "df.head()\n",
    "df.info()\n",
    "df.describe() # 요약통계량"
   ]
  },
  {
   "cell_type": "code",
   "execution_count": null,
   "metadata": {},
   "outputs": [],
   "source": [
    "# 3. 데이터를 훈련셋과 테스트셋으로 나누자.\n",
    "X_train, X_test, y_train, y_test = train_test_split(iris['data'], iris['target'], test_size = 0.3, random_state=11)\n",
    "\n",
    "# 모델 생성\n",
    "clf = DecisionTreeClassifier(max_depth=5)\n",
    "\n",
    "# 훈련세트를 기준으로 학습을 진행\n",
    "clf.fit(X_train, y_train)\n",
    "\n",
    "# 예측하기\n",
    "y_pred = clf.predict(X_test)\n",
    "\n",
    "# 평가하기\n",
    "print('훈련셋 : ', clf.score(X_train, y_train))\n",
    "print('테스트셋 : ', clf.score(X_test, y_test))"
   ]
  },
  {
   "cell_type": "markdown",
   "metadata": {},
   "source": [
    "## Kfold\n",
    "- 1. 구간을 나누고 결과를 한번에 확인하기 위해 빈 리스트 생성\n",
    "- 2. for문 안에서 반복문이 시행될때 마다 모델을 생성하고 학습하며 평가하기\n",
    "- 3. 빈 리스트에 평가 점수들을 추가해 한꺼번에 결과를 확인하고 평균값 확인해보기"
   ]
  },
  {
   "cell_type": "code",
   "execution_count": 181,
   "metadata": {},
   "outputs": [
    {
     "name": "stdout",
     "output_type": "stream",
     "text": [
      "0번째 -----\n",
      "[  6  12  14  15  21  22  24  30  34  36  66  70  75  77  81  83  86  88\n",
      "  93 101 103 107 110 121 125 126 127 135 143 149]\n",
      "1번째 -----\n",
      "[  0   4   9  11  32  33  37  43  48  54  58  61  63  65  69  74  79  90\n",
      "  98 106 109 118 119 128 131 136 138 144 145 148]\n",
      "2번째 -----\n",
      "[  1   2  13  16  18  26  27  28  35  39  40  42  45  49  51  53  57  60\n",
      "  62  76  94  95  99 102 108 117 122 133 137 139]\n",
      "3번째 -----\n",
      "[  3  10  23  31  41  50  52  56  64  71  72  84  85  87  89  92  96  97\n",
      " 100 104 105 112 113 115 124 130 132 134 140 146]\n",
      "4번째 -----\n",
      "[  5   7   8  17  19  20  25  29  38  44  46  47  55  59  67  68  73  78\n",
      "  80  82  91 111 114 116 120 123 129 141 142 147]\n",
      "[1.0, 1.0, 1.0, 1.0, 1.0]\n",
      "0.9466666666666667\n"
     ]
    }
   ],
   "source": [
    "from sklearn.model_selection import KFold\n",
    "kfold = KFold(n_splits=5, shuffle=True) # 전체 구간을 5개로 나누겠다\n",
    "\n",
    "iris_data = iris['data']\n",
    "iris_target = iris['target']\n",
    "train_score = []\n",
    "test_score = []\n",
    "\n",
    "n_iter = 0\n",
    "for train_index, test_index in kfold.split(iris['data']):\n",
    "    print(f'{n_iter}번째 -----')\n",
    "    # print(train_index)\n",
    "    print(test_index)\n",
    "    n_iter += 1\n",
    "\n",
    "    # 데이터 분할하기\n",
    "    X_train = iris_data[train_index] # 전체 5개반 중에서 학습모델로 분류된 4개반에 대한 학습세트와\n",
    "    X_test = iris_data[test_index] # 테스트 세트\n",
    "    y_train = iris_target[train_index] # 전체 5개반 중에서 테스트모델로 분류된 1개반에 대한 학습세트와\n",
    "    y_test = iris_target[test_index] # 테스트 세트\n",
    "\n",
    "    model = DecisionTreeClassifier()\n",
    "    model.fit(X_train, y_train)\n",
    "    \n",
    "    train_score.append(model.score(X_train, y_train))\n",
    "    test_score.append(model.score(X_test, y_test))\n",
    "print(train_score)\n",
    "print(sum(test_score)/5)\n"
   ]
  },
  {
   "cell_type": "markdown",
   "metadata": {},
   "source": [
    "## StratifiedKFold\n",
    "- 불균형한 분포도를 가진 레이블 데이터 집합에 사용한다.\n",
    "- 불균형하다 -> 특정 레이블 값이 특이하게 많거나 매우 적어서 값의 분포가 한쪽으로 치우치는 것을 말한다"
   ]
  },
  {
   "cell_type": "code",
   "execution_count": 241,
   "metadata": {},
   "outputs": [
    {
     "name": "stdout",
     "output_type": "stream",
     "text": [
      "0번째 -----\n",
      "[  0   1   2   3   4   5   6   7   8   9  10  11  12  13  14  15  16  50\n",
      "  51  52  53  54  55  56  57  58  59  60  61  62  63  64  65  66 100 101\n",
      " 102 103 104 105 106 107 108 109 110 111 112 113 114 115]\n",
      "1번째 -----\n",
      "[ 17  18  19  20  21  22  23  24  25  26  27  28  29  30  31  32  33  67\n",
      "  68  69  70  71  72  73  74  75  76  77  78  79  80  81  82 116 117 118\n",
      " 119 120 121 122 123 124 125 126 127 128 129 130 131 132]\n",
      "2번째 -----\n",
      "[ 34  35  36  37  38  39  40  41  42  43  44  45  46  47  48  49  83  84\n",
      "  85  86  87  88  89  90  91  92  93  94  95  96  97  98  99 133 134 135\n",
      " 136 137 138 139 140 141 142 143 144 145 146 147 148 149]\n",
      "[1.0, 1.0, 1.0]\n",
      "0.9666666666666667\n"
     ]
    }
   ],
   "source": [
    "from sklearn.model_selection import StratifiedKFold\n",
    "kfold = StratifiedKFold(n_splits=3) # 전체 구간을 5개로 나누겠다\n",
    "\n",
    "iris_data = iris['data']\n",
    "iris_target = iris['target']\n",
    "train_score = []\n",
    "test_score = []\n",
    "\n",
    "n_iter = 0\n",
    "for train_index, test_index in kfold.split(iris_data, iris_target):\n",
    "    print(f'{n_iter}번째 -----')\n",
    "    # print(train_index)\n",
    "    print(test_index)\n",
    "    n_iter += 1\n",
    "\n",
    "    # 데이터 분할하기\n",
    "    X_train = iris_data[train_index] # 전체 5개반 중에서 학습모델로 분류된 4개반에 대한 학습세트와\n",
    "    X_test = iris_data[test_index] # 테스트 세트\n",
    "    y_train = iris_target[train_index] # 전체 5개반 중에서 테스트모델로 분류된 1개반에 대한 학습세트와\n",
    "    y_test = iris_target[test_index] # 테스트 세트\n",
    "\n",
    "    model = DecisionTreeClassifier()\n",
    "    model.fit(X_train, y_train)\n",
    "    \n",
    "    train_score.append(model.score(X_train, y_train))\n",
    "    test_score.append(model.score(X_test, y_test))\n",
    "print(train_score)\n",
    "print(sum(test_score)/3)"
   ]
  }
 ],
 "metadata": {
  "kernelspec": {
   "display_name": "Python 3.9.12 ('base')",
   "language": "python",
   "name": "python3"
  },
  "language_info": {
   "codemirror_mode": {
    "name": "ipython",
    "version": 3
   },
   "file_extension": ".py",
   "mimetype": "text/x-python",
   "name": "python",
   "nbconvert_exporter": "python",
   "pygments_lexer": "ipython3",
   "version": "3.9.12"
  },
  "orig_nbformat": 4,
  "vscode": {
   "interpreter": {
    "hash": "a90aeebcf29d64a654773811cc170cb25061cb2498f10ac689db374c7bf325de"
   }
  }
 },
 "nbformat": 4,
 "nbformat_minor": 2
}
