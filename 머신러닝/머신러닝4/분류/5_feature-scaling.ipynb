{
 "cells": [
  {
   "cell_type": "markdown",
   "metadata": {},
   "source": [
    "## Feature Scaling\n",
    "- 서로 다른 피처의 크기를 통일하기 위해 크기를 변환해주는 개념"
   ]
  },
  {
   "cell_type": "markdown",
   "metadata": {},
   "source": [
    "## Standard Scalar(표준화)\n",
    "- 가우시안 정규분포를 따르는 경우에 사용하고, 아닐 경우에는 minmaxscalar를 사용한다"
   ]
  },
  {
   "cell_type": "code",
   "execution_count": 12,
   "metadata": {},
   "outputs": [
    {
     "name": "stdout",
     "output_type": "stream",
     "text": [
      "0.26236724966560704\n",
      "0.4486931104833647\n"
     ]
    }
   ],
   "source": [
    "from sklearn.linear_model import LogisticRegression\n",
    "from sklearn.datasets import load_iris\n",
    "import pandas as pd\n",
    "from sklearn.preprocessing import MinMaxScaler, StandardScaler # 정규화 \n",
    "from sklearn.tree import DecisionTreeClassifier\n",
    "from sklearn.model_selection import train_test_split\n",
    "\n",
    "iris = load_iris()\n",
    "\n",
    "# 객체 생성\n",
    "scalar = StandardScaler()\n",
    "minmax = MinMaxScaler()\n",
    "\n",
    "# 학습시키기\n",
    "# scalar.fit(iris['data'])\n",
    "minmax.fit(iris['data'])\n",
    "\n",
    "# 값 정규화하기\n",
    "# iris_data = scalar.transform(iris['data'])\n",
    "iris_data1 = minmax.transform(iris['data'])\n",
    "# print(iris_data)\n",
    "# print(iris_data.std())\n",
    "# print(iris_data.mean())\n",
    "# # # print(iris_data1)\n",
    "print(iris_data1.std())\n",
    "print(iris_data1.mean())\n",
    "\n",
    "# 의사결정 트리 모델 생성\n",
    "# model1 = DecisionTreeClassifier()\n",
    "# model2 = DecisionTreeClassifier()\n",
    "\n",
    "# X_train1, X_test1, y_train1, y_test1 = train_test_split(iris['data'], iris['target'], test_size=0.2, random_state=1234)\n",
    "# X_train2, X_test2, y_train2, y_test2 = train_test_split(iris_data, iris['target'], test_size=0.2, random_state=1234)\n",
    "\n",
    "# model1.fit(X_train1, y_train1)\n",
    "# model2.fit(X_train2, y_train2)\n",
    "\n",
    "# # 어차피 의사결정트리라서 값이 모두 1로 고정되지만\n",
    "# print('표준화 전 : ', model1.score(X_train1, y_train1))\n",
    "# print('표준화 후 : ', model2.score(X_train2, y_train2))\n",
    "\n",
    "# # 로지스틱은 다르다\n",
    "# model1 = LogisticRegression()\n",
    "# model2 = LogisticRegression()\n",
    "\n",
    "# X_train1, X_test1, y_train1, y_test1 = train_test_split(iris['data'], iris['target'], test_size=0.2, random_state=1234)\n",
    "# X_train2, X_test2, y_train2, y_test2 = train_test_split(iris_data, iris['target'], test_size=0.2, random_state=1234)\n",
    "\n",
    "# model1.fit(X_train1, y_train1)\n",
    "# model2.fit(X_train2, y_train2)\n",
    "# print('표준화 전 : ', model1.score(X_train1, y_train1))\n",
    "# print('표준화 후 : ', model2.score(X_train2, y_train2))"
   ]
  }
 ],
 "metadata": {
  "kernelspec": {
   "display_name": "Python 3.9.12 ('base')",
   "language": "python",
   "name": "python3"
  },
  "language_info": {
   "codemirror_mode": {
    "name": "ipython",
    "version": 3
   },
   "file_extension": ".py",
   "mimetype": "text/x-python",
   "name": "python",
   "nbconvert_exporter": "python",
   "pygments_lexer": "ipython3",
   "version": "3.9.12"
  },
  "orig_nbformat": 4,
  "vscode": {
   "interpreter": {
    "hash": "a90aeebcf29d64a654773811cc170cb25061cb2498f10ac689db374c7bf325de"
   }
  }
 },
 "nbformat": 4,
 "nbformat_minor": 2
}
