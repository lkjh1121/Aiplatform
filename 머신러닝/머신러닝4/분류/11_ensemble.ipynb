{
 "cells": [
  {
   "cell_type": "markdown",
   "metadata": {},
   "source": [
    "## ensemble(RandomForest)"
   ]
  },
  {
   "cell_type": "code",
   "execution_count": 15,
   "metadata": {},
   "outputs": [
    {
     "name": "stdout",
     "output_type": "stream",
     "text": [
      "--------로지스틱 회귀 분석--------\n",
      "훈련셋 :  0.9673366834170855\n",
      "테스트셋 :  0.935672514619883\n",
      "--------의사결정 트리 분류--------\n",
      "훈련셋 :  0.9899497487437185\n",
      "테스트셋 :  0.9473684210526315\n",
      "--------랜덤 포레스트 분류--------\n",
      "훈련셋 :  0.9899497487437185\n",
      "테스트셋 :  0.9532163742690059\n"
     ]
    }
   ],
   "source": [
    "from sklearn.datasets import load_breast_cancer\n",
    "from sklearn.model_selection import train_test_split\n",
    "from sklearn.linear_model import LogisticRegression\n",
    "from sklearn.ensemble import RandomForestClassifier\n",
    "from sklearn.tree import DecisionTreeClassifier\n",
    "import numpy as np\n",
    "\n",
    "cancer = load_breast_cancer()\n",
    "cancer_data = cancer['data']\n",
    "cancer_target = cancer['target']\n",
    "\n",
    "X_train, X_test, y_train, y_test = train_test_split(cancer_data, cancer_target, test_size=0.3, random_state=11)\n",
    "\n",
    "model = LogisticRegression(solver='liblinear')\n",
    "model1 = DecisionTreeClassifier(max_depth=5)\n",
    "model2 = RandomForestClassifier(random_state = 0, max_depth=4, n_estimators=100)\n",
    "model.fit(X_train, y_train)\n",
    "model1.fit(X_train, y_train)\n",
    "model2.fit(X_train, y_train)\n",
    "y_pred = model.predict(X_test)\n",
    "y_pred1 = model1.predict(X_test)\n",
    "y_pred2 = model2.predict(X_test)\n",
    "print('--------로지스틱 회귀 분석--------')\n",
    "print('훈련셋 : ', model.score(X_train, y_train))\n",
    "print('테스트셋 : ', model.score(X_test, y_test))\n",
    "print('--------의사결정 트리 분류--------')\n",
    "print('훈련셋 : ', model1.score(X_train, y_train))\n",
    "print('테스트셋 : ', model1.score(X_test, y_test))\n",
    "print('--------랜덤 포레스트 분류--------')\n",
    "print('훈련셋 : ', model2.score(X_train, y_train))\n",
    "print('테스트셋 : ', model2.score(X_test, y_test))"
   ]
  },
  {
   "cell_type": "markdown",
   "metadata": {},
   "source": [
    "## RandomForest HyperParameter Tuning\n",
    "- GridSearchSV를 활용해서 parameters를 주고 최적의 파라미터와 최고 정확도를 찾는다"
   ]
  },
  {
   "cell_type": "code",
   "execution_count": 19,
   "metadata": {},
   "outputs": [
    {
     "name": "stdout",
     "output_type": "stream",
     "text": [
      "-------------------------------------------\n",
      "최적의 파라미터 :  RandomForestClassifier(max_depth=8, n_estimators=50, n_jobs=-1, random_state=0)\n",
      "최고 예측 정확도 :  0.9547738693467336\n"
     ]
    }
   ],
   "source": [
    "from sklearn.model_selection import GridSearchCV\n",
    "parameters = {\n",
    "    'max_depth':[8, 16, 24],\n",
    "    'min_samples_leaf':[1, 6, 12],\n",
    "    'min_samples_split':[2, 8, 16],\n",
    "    'n_estimators':[10, 50, 100]\n",
    "}\n",
    "# n_jobs : 시스템 내의 프로세서(cpu를 최대한으로 써라.) -1 : 자동 크기설정\n",
    "model = RandomForestClassifier(random_state=0, n_jobs=-1)\n",
    "grid_cv = GridSearchCV(model, param_grid=parameters, cv=2, n_jobs=-1)\n",
    "grid_cv.fit(X_train, y_train)\n",
    "\n",
    "print('-------------------------------------------')\n",
    "print('최적의 파라미터 : ', grid_cv.best_estimator_)\n",
    "print('최고 예측 정확도 : ', grid_cv.best_score_)"
   ]
  }
 ],
 "metadata": {
  "kernelspec": {
   "display_name": "Python 3.9.12 ('base')",
   "language": "python",
   "name": "python3"
  },
  "language_info": {
   "codemirror_mode": {
    "name": "ipython",
    "version": 3
   },
   "file_extension": ".py",
   "mimetype": "text/x-python",
   "name": "python",
   "nbconvert_exporter": "python",
   "pygments_lexer": "ipython3",
   "version": "3.9.12"
  },
  "orig_nbformat": 4,
  "vscode": {
   "interpreter": {
    "hash": "a90aeebcf29d64a654773811cc170cb25061cb2498f10ac689db374c7bf325de"
   }
  }
 },
 "nbformat": 4,
 "nbformat_minor": 2
}
