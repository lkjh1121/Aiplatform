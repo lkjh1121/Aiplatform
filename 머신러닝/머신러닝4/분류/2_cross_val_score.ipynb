{
 "cells": [
  {
   "cell_type": "markdown",
   "metadata": {},
   "source": [
    "## Cross_val_score()\n",
    "- 기존에 진행하던 3가지 절차(1. 폴드 세트 정하기 2. for루프에서 반복으로 학습 및 인덱스 추출 3. 반복적으로 학습, 예측 수행 및 예측성능 반환)\n",
    "- 이 세 절차를 내부에서 자체적으로 진행해서 결과를 반환해주는 API\n",
    "- stratifiedKFold를 사용하기에 KFold와는 다른 결과를 낸다"
   ]
  },
  {
   "cell_type": "code",
   "execution_count": 1,
   "metadata": {},
   "outputs": [
    {
     "name": "stdout",
     "output_type": "stream",
     "text": [
      "[0.98 0.94 0.98]\n",
      "0.97\n"
     ]
    }
   ],
   "source": [
    "from sklearn.model_selection import cross_val_score, cross_validate\n",
    "import numpy as np\n",
    "from sklearn.tree import DecisionTreeClassifier\n",
    "from sklearn.datasets import load_iris\n",
    "\n",
    "iris = load_iris()\n",
    "\n",
    "model = DecisionTreeClassifier(random_state=156)\n",
    "result = cross_val_score(model, iris['data'], iris['target'], \n",
    "    scoring='accuracy', # 정확도로 모델을 평가하겠다.\n",
    "    cv=3) # 구간을 세개로 쪼갠다.\n",
    "\n",
    "print(result)\n",
    "print(np.round(np.mean(result),2))"
   ]
  }
 ],
 "metadata": {
  "kernelspec": {
   "display_name": "Python 3.9.12 ('base')",
   "language": "python",
   "name": "python3"
  },
  "language_info": {
   "codemirror_mode": {
    "name": "ipython",
    "version": 3
   },
   "file_extension": ".py",
   "mimetype": "text/x-python",
   "name": "python",
   "nbconvert_exporter": "python",
   "pygments_lexer": "ipython3",
   "version": "3.9.12"
  },
  "orig_nbformat": 4,
  "vscode": {
   "interpreter": {
    "hash": "a90aeebcf29d64a654773811cc170cb25061cb2498f10ac689db374c7bf325de"
   }
  }
 },
 "nbformat": 4,
 "nbformat_minor": 2
}
