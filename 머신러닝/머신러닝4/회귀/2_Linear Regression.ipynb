{
 "cells": [
  {
   "cell_type": "markdown",
   "metadata": {},
   "source": [
    "## 단일회귀(Linear Regression)"
   ]
  },
  {
   "cell_type": "code",
   "execution_count": 28,
   "metadata": {},
   "outputs": [
    {
     "name": "stdout",
     "output_type": "stream",
     "text": [
      "(10, 1) (10,)\n",
      "[[1.         0.88790207]\n",
      " [0.88790207 1.        ]]\n",
      "          X         y\n",
      "X  1.000000  0.887902\n",
      "y  0.887902  1.000000\n"
     ]
    },
    {
     "data": {
      "image/png": "[encoded data removed]",
      "text/plain": [
       "<Figure size 432x288 with 1 Axes>"
      ]
     },
     "metadata": {
      "needs_background": "light"
     },
     "output_type": "display_data"
    },
    {
     "data": {
      "image/png": "[encoded data removed]",
      "text/plain": [
       "<Figure size 432x288 with 1 Axes>"
      ]
     },
     "metadata": {
      "needs_background": "light"
     },
     "output_type": "display_data"
    },
    {
     "name": "stdout",
     "output_type": "stream",
     "text": [
      "[1.31416073]\n",
      "-159.43211276733643\n",
      "관측치 :  [ 65  48  98  85  85 100  67  64  58  67]\n",
      "기대치 :  [[74.48849717]\n",
      " [41.63447892]\n",
      " [90.25842593]\n",
      " [74.48849717]\n",
      " [90.25842593]\n",
      " [92.88674739]\n",
      " [63.97521133]\n",
      " [65.28937206]\n",
      " [69.23185425]\n",
      " [74.48849717]]\n",
      "기대치 :  [74.48849644 41.63447829 90.25842515 74.48849644 90.25842515 92.8867466\n",
      " 63.97521063 65.28937135 69.23185353 74.48849644]\n",
      "(65, array([74.48849717]), 74.48849644)\n",
      "(48, array([41.63447892]), 41.63447829)\n",
      "(98, array([90.25842593]), 90.25842515)\n",
      "(85, array([74.48849717]), 74.48849644)\n",
      "(85, array([90.25842593]), 90.25842515)\n",
      "(100, array([92.88674739]), 92.8867466)\n",
      "(67, array([63.97521133]), 63.97521063)\n",
      "(64, array([65.28937206]), 65.28937135)\n",
      "(58, array([69.23185425]), 69.23185353)\n",
      "(67, array([74.48849717]), 74.48849644)\n"
     ]
    }
   ],
   "source": [
    "import numpy as np\n",
    "import pandas as pd\n",
    "import matplotlib.pyplot as plt\n",
    "from sklearn.linear_model import LinearRegression\n",
    "\n",
    "# 데이터 만들기(키가 크면 몸무게가 증가하는가)\n",
    "# X : 독립변수(키)\n",
    "X = [[178], [153], [190], [178], [190],[192], [170], [171], [174], [178]]\n",
    "# y : 종속변수(몸무게)\n",
    "y = [65, 48, 98, 85, 85, 100, 67, 64, 58, 67]\n",
    "X = np.array(X)\n",
    "y = np.array(y)\n",
    "print(X.shape, y.shape)\n",
    "\n",
    "# X, y상관계수 구하기\n",
    "X = X.reshape(-1)\n",
    "print(np.corrcoef(X, y))\n",
    "\n",
    "# DataFrame\n",
    "df = pd.DataFrame({'X':X, 'y':y})\n",
    "print(df.corr(method='pearson'))\n",
    "\n",
    "# 산포도 구하기\n",
    "plt.plot(df['X'], df['y'], 'o')\n",
    "plt.show()\n",
    "\n",
    "# 단순회귀모델\n",
    "X = X.reshape(-1, 1)\n",
    "model = LinearRegression()\n",
    "model.fit(X, y)\n",
    "plt.plot(X, model.predict(X), color = 'green')\n",
    "plt.scatter(X, y, color = 'blue')\n",
    "plt.show()\n",
    "print(model.coef_)\n",
    "print(model.intercept_)\n",
    "\n",
    "# 예측치\n",
    "y_pred = X*1.31416073 - 159.43211276733643\n",
    "print('관측치 : ', y)\n",
    "print('기대치 : ', y_pred)\n",
    "print('기대치 : ', model.predict(X))\n",
    "\n",
    "for item in zip(y, y_pred, np.round(model.predict(X), 8)):\n",
    "    print(item)"
   ]
  }
 ],
 "metadata": {
  "kernelspec": {
   "display_name": "Python 3.9.12 ('base')",
   "language": "python",
   "name": "python3"
  },
  "language_info": {
   "codemirror_mode": {
    "name": "ipython",
    "version": 3
   },
   "file_extension": ".py",
   "mimetype": "text/x-python",
   "name": "python",
   "nbconvert_exporter": "python",
   "pygments_lexer": "ipython3",
   "version": "3.9.12"
  },
  "orig_nbformat": 4,
  "vscode": {
   "interpreter": {
    "hash": "a90aeebcf29d64a654773811cc170cb25061cb2498f10ac689db374c7bf325de"
   }
  }
 },
 "nbformat": 4,
 "nbformat_minor": 2
}
