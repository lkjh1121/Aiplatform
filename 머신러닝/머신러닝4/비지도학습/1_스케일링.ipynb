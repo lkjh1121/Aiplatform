{
 "cells": [
  {
   "cell_type": "markdown",
   "metadata": {},
   "source": [
    "### 스케일링 - MinMaxScalar(정규화)"
   ]
  },
  {
   "cell_type": "code",
   "execution_count": 1,
   "metadata": {},
   "outputs": [
    {
     "ename": "ModuleNotFoundError",
     "evalue": "No module named 'sklearn'",
     "output_type": "error",
     "traceback": [
      "\u001b[1;31m---------------------------------------------------------------------------\u001b[0m",
      "\u001b[1;31mModuleNotFoundError\u001b[0m                       Traceback (most recent call last)",
      "Cell \u001b[1;32mIn [1], line 1\u001b[0m\n\u001b[1;32m----> 1\u001b[0m \u001b[39mfrom\u001b[39;00m \u001b[39msklearn\u001b[39;00m\u001b[39m.\u001b[39;00m\u001b[39mdatasets\u001b[39;00m \u001b[39mimport\u001b[39;00m load_breast_cancer\n\u001b[0;32m      2\u001b[0m \u001b[39mfrom\u001b[39;00m \u001b[39msklearn\u001b[39;00m\u001b[39m.\u001b[39;00m\u001b[39mmodel_selection\u001b[39;00m \u001b[39mimport\u001b[39;00m train_test_split\n\u001b[0;32m      4\u001b[0m cancer \u001b[39m=\u001b[39m load_breast_cancer()\n",
      "\u001b[1;31mModuleNotFoundError\u001b[0m: No module named 'sklearn'"
     ]
    }
   ],
   "source": [
    "from sklearn.datasets import load_breast_cancer\n",
    "from sklearn.model_selection import train_test_split\n",
    "\n",
    "cancer = load_breast_cancer()\n",
    "\n",
    "X_train, X_test, y_train, y_test = train_test_split(cancer['data'], cancer['target'], test_size = 0.3, random_state = 1)\n",
    "\n",
    "from sklearn.preprocessing import MinMaxScaler\n",
    "scal = MinMaxScaler()\n",
    "scal.fit(X_train, X_test)\n",
    "\n",
    "X_train_scaled = scal.transform(X_train)\n",
    "X_test_scaled = scal.transform(X_test)\n",
    "\n",
    "print('스케일 조정 전 특성별 최소값(train) : ', X_train.min(axis=0))\n",
    "print('스케일 조정 후 특성별 최소값(train) : ', X_train_scaled.min(axis=0))\n",
    "print('스케일 조정 전 특성별 최대값(train) : ', X_train.max(axis=0))\n",
    "print('스케일 조정 후 특성별 최대값(train) : ', X_train_scaled.max(axis=0))\n",
    "\n",
    "print('스케일 조정 전 특성별 최소값(test) : ', X_test.min(axis=0))\n",
    "print('스케일 조정 후 특성별 최소값(test) : ', X_test_scaled.min(axis=0))\n",
    "print('스케일 조정 전 특성별 최대값(test) : ', X_test.max(axis=0))\n",
    "print('스케일 조정 후 특성별 최대값(test) : ', X_test_scaled.max(axis=0))\n",
    "\n",
    "print('스케일 조정 전 표준편차', X_train.std())\n",
    "print('스케일 조정 후 표준편차', X_train_scaled.std())\n"
   ]
  },
  {
   "cell_type": "markdown",
   "metadata": {},
   "source": [
    "## StandardScalar(표준화)"
   ]
  },
  {
   "cell_type": "code",
   "execution_count": 9,
   "metadata": {},
   "outputs": [
    {
     "name": "stdout",
     "output_type": "stream",
     "text": [
      "스케일 조정 전 특성별 최소값(train) :  [6.981e+00 9.710e+00 4.379e+01 1.435e+02 5.263e-02 1.938e-02 0.000e+00\n",
      " 0.000e+00 1.060e-01 5.024e-02 1.153e-01 3.602e-01 7.570e-01 6.802e+00\n",
      " 1.713e-03 2.252e-03 0.000e+00 0.000e+00 9.539e-03 8.948e-04 7.930e+00\n",
      " 1.202e+01 5.041e+01 1.852e+02 7.117e-02 2.729e-02 0.000e+00 0.000e+00\n",
      " 1.566e-01 5.521e-02]\n",
      "스케일 조정 후 특성별 최소값(train) :  [-1.95494918 -2.19657002 -1.91309161 -1.4022708  -3.15517551 -1.67237209\n",
      " -1.1126858  -1.24787863 -2.7357065  -1.83621711 -1.01390548 -1.46530534\n",
      " -1.01328079 -0.7004008  -1.71201496 -1.2969622  -1.06923051 -1.84338097\n",
      " -1.40979133 -1.03719437 -1.65943832 -2.16704476 -1.63204853 -1.17717918\n",
      " -2.72493862 -1.49081417 -1.35018847 -1.71441991 -2.3006474  -1.70488942]\n",
      "스케일 조정 전 특성별 최대값(train) :  [2.811e+01 3.928e+01 1.885e+02 2.501e+03 1.634e-01 2.867e-01 4.268e-01\n",
      " 2.012e-01 3.040e-01 9.575e-02 2.873e+00 4.885e+00 2.198e+01 5.422e+02\n",
      " 3.113e-02 1.354e-01 3.960e-01 5.279e-02 6.146e-02 2.984e-02 3.604e+01\n",
      " 4.954e+01 2.512e+02 4.254e+03 2.226e-01 9.379e-01 9.608e-01 2.910e-01\n",
      " 5.558e-01 1.486e-01]\n",
      "스케일 조정 후 특성별 최대값(train) :  [ 3.79915232  4.50973391  3.8047522   4.98254718  4.80588121  3.53736315\n",
      "  4.2110719   3.84260502  4.51417378  4.76805208  8.2763346   6.14545315\n",
      "  8.84437873  9.8768317   7.67178655  5.97604027 12.16008349  6.33465397\n",
      "  5.3718131   8.98182858  3.87716949  3.78640497  4.0708677   5.54922241\n",
      "  4.011234    4.44825216  3.45298807  2.62536296  4.75929315  3.8414051 ]\n",
      "스케일 조정 전 특성별 최소값(test) :  [7.691e+00 1.038e+01 4.834e+01 1.704e+02 6.828e-02 3.116e-02 0.000e+00\n",
      " 0.000e+00 1.365e-01 4.996e-02 1.115e-01 3.871e-01 8.484e-01 7.228e+00\n",
      " 2.866e-03 3.746e-03 0.000e+00 0.000e+00 7.882e-03 1.087e-03 8.678e+00\n",
      " 1.420e+01 5.449e+01 2.236e+02 8.774e-02 5.131e-02 0.000e+00 0.000e+00\n",
      " 1.565e-01 5.504e-02]\n",
      "스케일 조정 후 특성별 최소값(test) :  [-1.76159351 -2.04461792 -1.73331005 -1.32941752 -2.03040763 -1.4427945\n",
      " -1.1126858  -1.24787863 -1.61893201 -1.87684984 -1.02670706 -1.42005927\n",
      " -0.97082732 -0.69198482 -1.34421664 -1.21535477 -1.06923051 -1.84338097\n",
      " -1.62621857 -0.97066671 -1.51211058 -1.82113537 -1.51616677 -1.1136976\n",
      " -1.98784306 -1.33415394 -1.35018847 -1.71441991 -2.30241592 -1.71498547]\n",
      "스케일 조정 전 특성별 최대값(test) :  [2.722e+01 3.381e+01 1.821e+02 2.250e+03 1.425e-01 3.454e-01 3.754e-01\n",
      " 1.878e-01 2.906e-01 9.744e-02 1.292e+00 2.612e+00 1.012e+01 1.587e+02\n",
      " 1.604e-02 1.006e-01 3.038e-01 3.322e-02 7.895e-02 1.220e-02 3.312e+01\n",
      " 4.279e+01 2.208e+02 3.216e+03 2.098e-01 1.058e+00 1.252e+00 2.688e-01\n",
      " 6.638e-01 2.075e-01]\n",
      "스케일 조정 후 특성별 최대값(test) :  [3.5567769  3.26916974 3.55187264 4.30276381 3.30379503 4.68135335\n",
      " 3.56992582 3.50357678 4.02352532 5.0132996  2.95020429 2.3222446\n",
      " 3.33564566 2.30047044 2.85819017 4.07514438 9.07992503 3.30294069\n",
      " 7.65625026 2.87596078 3.30203983 2.71535524 3.20743499 3.83323616\n",
      " 3.44184214 5.23155332 4.90873849 2.29428674 6.6692971  7.33938932]\n",
      "스케일 조정 전 표준편차 234.83517750877292\n",
      "스케일 조정 후 표준편차 1.0\n"
     ]
    }
   ],
   "source": [
    "from sklearn.preprocessing import StandardScaler\n",
    "scal = StandardScaler()\n",
    "scal.fit(X_train, X_test)\n",
    "\n",
    "X_train_scaled = scal.transform(X_train)\n",
    "X_test_scaled = scal.transform(X_test)\n",
    "\n",
    "print('스케일 조정 전 특성별 최소값(train) : ', X_train.min(axis=0))\n",
    "print('스케일 조정 후 특성별 최소값(train) : ', X_train_scaled.min(axis=0))\n",
    "print('스케일 조정 전 특성별 최대값(train) : ', X_train.max(axis=0))\n",
    "print('스케일 조정 후 특성별 최대값(train) : ', X_train_scaled.max(axis=0))\n",
    "\n",
    "print('스케일 조정 전 특성별 최소값(test) : ', X_test.min(axis=0))\n",
    "print('스케일 조정 후 특성별 최소값(test) : ', X_test_scaled.min(axis=0))\n",
    "print('스케일 조정 전 특성별 최대값(test) : ', X_test.max(axis=0))\n",
    "print('스케일 조정 후 특성별 최대값(test) : ', X_test_scaled.max(axis=0))\n",
    "\n",
    "print('스케일 조정 전 표준편차', X_train.std())\n",
    "print('스케일 조정 후 표준편차', X_train_scaled.std())"
   ]
  }
 ],
 "metadata": {
  "kernelspec": {
   "display_name": "Python 3.10.6 64-bit",
   "language": "python",
   "name": "python3"
  },
  "language_info": {
   "codemirror_mode": {
    "name": "ipython",
    "version": 3
   },
   "file_extension": ".py",
   "mimetype": "text/x-python",
   "name": "python",
   "nbconvert_exporter": "python",
   "pygments_lexer": "ipython3",
   "version": "3.10.6"
  },
  "orig_nbformat": 4,
  "vscode": {
   "interpreter": {
    "hash": "27f6fea6f47ae512550f0b8facdbd035a93e1dd89633f7bf2dd00a2502c71d0d"
   }
  }
 },
 "nbformat": 4,
 "nbformat_minor": 2
}
