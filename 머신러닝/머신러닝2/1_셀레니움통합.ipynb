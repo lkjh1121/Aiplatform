{
 "cells": [
  {
   "cell_type": "code",
   "execution_count": 6,
   "metadata": {},
   "outputs": [
    {
     "ename": "NoSuchWindowException",
     "evalue": "Message: no such window: target window already closed\nfrom unknown error: web view not found\n  (Session info: chrome=106.0.5249.119)\nStacktrace:\nBacktrace:\n\tOrdinal0 [0x00C61ED3+2236115]\n\tOrdinal0 [0x00BF92F1+1807089]\n\tOrdinal0 [0x00B066FD+812797]\n\tOrdinal0 [0x00AEDFFA+712698]\n\tOrdinal0 [0x00B5506B+1134699]\n\tOrdinal0 [0x00B6514A+1200458]\n\tOrdinal0 [0x00B518A6+1120422]\n\tOrdinal0 [0x00B2A73D+960317]\n\tOrdinal0 [0x00B2B71F+964383]\n\tGetHandleVerifier [0x00F0E7E2+2743074]\n\tGetHandleVerifier [0x00F008D4+2685972]\n\tGetHandleVerifier [0x00CF2BAA+532202]\n\tGetHandleVerifier [0x00CF1990+527568]\n\tOrdinal0 [0x00C0080C+1837068]\n\tOrdinal0 [0x00C04CD8+1854680]\n\tOrdinal0 [0x00C04DC5+1854917]\n\tOrdinal0 [0x00C0ED64+1895780]\n\tBaseThreadInitThunk [0x7576FA29+25]\n\tRtlGetAppContainerNamedObjectPath [0x77817BBE+286]\n\tRtlGetAppContainerNamedObjectPath [0x77817B8E+238]\n",
     "output_type": "error",
     "traceback": [
      "\u001b[1;31m---------------------------------------------------------------------------\u001b[0m",
      "\u001b[1;31mNoSuchWindowException\u001b[0m                     Traceback (most recent call last)",
      "\u001b[1;32mc:\\Users\\ASUS\\Desktop\\크롤링\\driver\\1_셀레니움통합.ipynb 셀 1\u001b[0m in \u001b[0;36m<cell line: 20>\u001b[1;34m()\u001b[0m\n\u001b[0;32m     <a href='vscode-notebook-cell:/c%3A/Users/ASUS/Desktop/%ED%81%AC%EB%A1%A4%EB%A7%81/driver/1_%EC%85%80%EB%A0%88%EB%8B%88%EC%9B%80%ED%86%B5%ED%95%A9.ipynb#W0sZmlsZQ%3D%3D?line=18'>19</a>\u001b[0m f \u001b[39m=\u001b[39m \u001b[39mopen\u001b[39m(\u001b[39m'\u001b[39m\u001b[39m다음뉴스.txt\u001b[39m\u001b[39m'\u001b[39m, \u001b[39m'\u001b[39m\u001b[39mw\u001b[39m\u001b[39m'\u001b[39m, encoding\u001b[39m=\u001b[39m\u001b[39m'\u001b[39m\u001b[39mutf8\u001b[39m\u001b[39m'\u001b[39m)\n\u001b[0;32m     <a href='vscode-notebook-cell:/c%3A/Users/ASUS/Desktop/%ED%81%AC%EB%A1%A4%EB%A7%81/driver/1_%EC%85%80%EB%A0%88%EB%8B%88%EC%9B%80%ED%86%B5%ED%95%A9.ipynb#W0sZmlsZQ%3D%3D?line=19'>20</a>\u001b[0m \u001b[39mfor\u001b[39;00m li \u001b[39min\u001b[39;00m liList:\n\u001b[1;32m---> <a href='vscode-notebook-cell:/c%3A/Users/ASUS/Desktop/%ED%81%AC%EB%A1%A4%EB%A7%81/driver/1_%EC%85%80%EB%A0%88%EB%8B%88%EC%9B%80%ED%86%B5%ED%95%A9.ipynb#W0sZmlsZQ%3D%3D?line=20'>21</a>\u001b[0m     a \u001b[39m=\u001b[39m li\u001b[39m.\u001b[39;49mfind_element(By\u001b[39m.\u001b[39;49mCLASS_NAME, \u001b[39m'\u001b[39;49m\u001b[39mlink_txt\u001b[39;49m\u001b[39m'\u001b[39;49m)\n\u001b[0;32m     <a href='vscode-notebook-cell:/c%3A/Users/ASUS/Desktop/%ED%81%AC%EB%A1%A4%EB%A7%81/driver/1_%EC%85%80%EB%A0%88%EB%8B%88%EC%9B%80%ED%86%B5%ED%95%A9.ipynb#W0sZmlsZQ%3D%3D?line=21'>22</a>\u001b[0m     a\u001b[39m.\u001b[39mclick()\n\u001b[0;32m     <a href='vscode-notebook-cell:/c%3A/Users/ASUS/Desktop/%ED%81%AC%EB%A1%A4%EB%A7%81/driver/1_%EC%85%80%EB%A0%88%EB%8B%88%EC%9B%80%ED%86%B5%ED%95%A9.ipynb#W0sZmlsZQ%3D%3D?line=22'>23</a>\u001b[0m     time\u001b[39m.\u001b[39msleep(\u001b[39m1\u001b[39m)\n",
      "File \u001b[1;32mc:\\Users\\ASUS\\anaconda3\\lib\\site-packages\\selenium\\webdriver\\remote\\webelement.py:419\u001b[0m, in \u001b[0;36mWebElement.find_element\u001b[1;34m(self, by, value)\u001b[0m\n\u001b[0;32m    416\u001b[0m     by \u001b[39m=\u001b[39m By\u001b[39m.\u001b[39mCSS_SELECTOR\n\u001b[0;32m    417\u001b[0m     value \u001b[39m=\u001b[39m \u001b[39m'\u001b[39m\u001b[39m[name=\u001b[39m\u001b[39m\"\u001b[39m\u001b[39m%s\u001b[39;00m\u001b[39m\"\u001b[39m\u001b[39m]\u001b[39m\u001b[39m'\u001b[39m \u001b[39m%\u001b[39m value\n\u001b[1;32m--> 419\u001b[0m \u001b[39mreturn\u001b[39;00m \u001b[39mself\u001b[39;49m\u001b[39m.\u001b[39;49m_execute(Command\u001b[39m.\u001b[39;49mFIND_CHILD_ELEMENT,\n\u001b[0;32m    420\u001b[0m                      {\u001b[39m\"\u001b[39;49m\u001b[39musing\u001b[39;49m\u001b[39m\"\u001b[39;49m: by, \u001b[39m\"\u001b[39;49m\u001b[39mvalue\u001b[39;49m\u001b[39m\"\u001b[39;49m: value})[\u001b[39m'\u001b[39m\u001b[39mvalue\u001b[39m\u001b[39m'\u001b[39m]\n",
      "File \u001b[1;32mc:\\Users\\ASUS\\anaconda3\\lib\\site-packages\\selenium\\webdriver\\remote\\webelement.py:396\u001b[0m, in \u001b[0;36mWebElement._execute\u001b[1;34m(self, command, params)\u001b[0m\n\u001b[0;32m    394\u001b[0m     params \u001b[39m=\u001b[39m {}\n\u001b[0;32m    395\u001b[0m params[\u001b[39m'\u001b[39m\u001b[39mid\u001b[39m\u001b[39m'\u001b[39m] \u001b[39m=\u001b[39m \u001b[39mself\u001b[39m\u001b[39m.\u001b[39m_id\n\u001b[1;32m--> 396\u001b[0m \u001b[39mreturn\u001b[39;00m \u001b[39mself\u001b[39;49m\u001b[39m.\u001b[39;49m_parent\u001b[39m.\u001b[39;49mexecute(command, params)\n",
      "File \u001b[1;32mc:\\Users\\ASUS\\anaconda3\\lib\\site-packages\\selenium\\webdriver\\remote\\webdriver.py:429\u001b[0m, in \u001b[0;36mWebDriver.execute\u001b[1;34m(self, driver_command, params)\u001b[0m\n\u001b[0;32m    427\u001b[0m response \u001b[39m=\u001b[39m \u001b[39mself\u001b[39m\u001b[39m.\u001b[39mcommand_executor\u001b[39m.\u001b[39mexecute(driver_command, params)\n\u001b[0;32m    428\u001b[0m \u001b[39mif\u001b[39;00m response:\n\u001b[1;32m--> 429\u001b[0m     \u001b[39mself\u001b[39;49m\u001b[39m.\u001b[39;49merror_handler\u001b[39m.\u001b[39;49mcheck_response(response)\n\u001b[0;32m    430\u001b[0m     response[\u001b[39m'\u001b[39m\u001b[39mvalue\u001b[39m\u001b[39m'\u001b[39m] \u001b[39m=\u001b[39m \u001b[39mself\u001b[39m\u001b[39m.\u001b[39m_unwrap_value(\n\u001b[0;32m    431\u001b[0m         response\u001b[39m.\u001b[39mget(\u001b[39m'\u001b[39m\u001b[39mvalue\u001b[39m\u001b[39m'\u001b[39m, \u001b[39mNone\u001b[39;00m))\n\u001b[0;32m    432\u001b[0m     \u001b[39mreturn\u001b[39;00m response\n",
      "File \u001b[1;32mc:\\Users\\ASUS\\anaconda3\\lib\\site-packages\\selenium\\webdriver\\remote\\errorhandler.py:243\u001b[0m, in \u001b[0;36mErrorHandler.check_response\u001b[1;34m(self, response)\u001b[0m\n\u001b[0;32m    241\u001b[0m         alert_text \u001b[39m=\u001b[39m value[\u001b[39m'\u001b[39m\u001b[39malert\u001b[39m\u001b[39m'\u001b[39m]\u001b[39m.\u001b[39mget(\u001b[39m'\u001b[39m\u001b[39mtext\u001b[39m\u001b[39m'\u001b[39m)\n\u001b[0;32m    242\u001b[0m     \u001b[39mraise\u001b[39;00m exception_class(message, screen, stacktrace, alert_text)  \u001b[39m# type: ignore[call-arg]  # mypy is not smart enough here\u001b[39;00m\n\u001b[1;32m--> 243\u001b[0m \u001b[39mraise\u001b[39;00m exception_class(message, screen, stacktrace)\n",
      "\u001b[1;31mNoSuchWindowException\u001b[0m: Message: no such window: target window already closed\nfrom unknown error: web view not found\n  (Session info: chrome=106.0.5249.119)\nStacktrace:\nBacktrace:\n\tOrdinal0 [0x00C61ED3+2236115]\n\tOrdinal0 [0x00BF92F1+1807089]\n\tOrdinal0 [0x00B066FD+812797]\n\tOrdinal0 [0x00AEDFFA+712698]\n\tOrdinal0 [0x00B5506B+1134699]\n\tOrdinal0 [0x00B6514A+1200458]\n\tOrdinal0 [0x00B518A6+1120422]\n\tOrdinal0 [0x00B2A73D+960317]\n\tOrdinal0 [0x00B2B71F+964383]\n\tGetHandleVerifier [0x00F0E7E2+2743074]\n\tGetHandleVerifier [0x00F008D4+2685972]\n\tGetHandleVerifier [0x00CF2BAA+532202]\n\tGetHandleVerifier [0x00CF1990+527568]\n\tOrdinal0 [0x00C0080C+1837068]\n\tOrdinal0 [0x00C04CD8+1854680]\n\tOrdinal0 [0x00C04DC5+1854917]\n\tOrdinal0 [0x00C0ED64+1895780]\n\tBaseThreadInitThunk [0x7576FA29+25]\n\tRtlGetAppContainerNamedObjectPath [0x77817BBE+286]\n\tRtlGetAppContainerNamedObjectPath [0x77817B8E+238]\n"
     ]
    }
   ],
   "source": [
    "from selenium import webdriver\n",
    "from selenium.webdriver.common.by import By\n",
    "import time\n",
    "\n",
    "driver = webdriver.Chrome()\n",
    "driver.maximize_window() # 전체화면\n",
    "driver.implicitly_wait(3)\n",
    "url = \"http://daum.net\"  \n",
    "driver.get(url)\n",
    "\n",
    "\n",
    "element = driver.find_element(By.CLASS_NAME, \"txt_pctop.link_news\")\n",
    "element.click()\n",
    "time.sleep(2)\n",
    "# html = driver.page_source\n",
    "# print(html)\n",
    "ul = driver.find_element(By.CLASS_NAME, 'list_newsissue')\n",
    "liList = ul.find_elements(By.CLASS_NAME, 'tit_g')\n",
    "f = open('다음뉴스.txt', 'w', encoding='utf8')\n",
    "for li in liList:\n",
    "    a = li.find_element(By.CLASS_NAME, 'link_txt')\n",
    "    a.click()\n",
    "    time.sleep(1)\n",
    "    title = driver.find_element(By.CLASS_NAME, 'tit_view')\n",
    "    content = driver.find_element(By.CSS_SELECTOR, '#mArticle > div.news_view.fs_type1 > div.article_view > section')\n",
    "    if title != None  and content != None:\n",
    "        print(title.text, content.text, file = f)\n",
    "    driver.back()\n",
    "    time.sleep(1)\n",
    "f.close()\n"
   ]
  }
 ],
 "metadata": {
  "kernelspec": {
   "display_name": "Python 3.9.12 ('base')",
   "language": "python",
   "name": "python3"
  },
  "language_info": {
   "codemirror_mode": {
    "name": "ipython",
    "version": 3
   },
   "file_extension": ".py",
   "mimetype": "text/x-python",
   "name": "python",
   "nbconvert_exporter": "python",
   "pygments_lexer": "ipython3",
   "version": "3.9.12"
  },
  "orig_nbformat": 4,
  "vscode": {
   "interpreter": {
    "hash": "a90aeebcf29d64a654773811cc170cb25061cb2498f10ac689db374c7bf325de"
   }
  }
 },
 "nbformat": 4,
 "nbformat_minor": 2
}
