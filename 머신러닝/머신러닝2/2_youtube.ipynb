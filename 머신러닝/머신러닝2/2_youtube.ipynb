{
 "cells": [
  {
   "cell_type": "code",
   "execution_count": 3,
   "metadata": {},
   "outputs": [],
   "source": [
    "from selenium.webdriver.common.keys import Keys\n",
    "from selenium import webdriver\n",
    "from selenium.webdriver.common.by import By\n",
    "import time\n",
    "\n",
    "\n",
    "driver = webdriver.Chrome()  # 크롬드라이버파일을 로딩한다\n",
    "driver.implicitly_wait(3) # 3초만 대기, 브라우저가 켜지는 시간동안\n",
    "\n",
    "# driver가 가리키는 객체 안에 모든 정보가 다 들어있다.\n",
    "url = \"https://www.youtube.com/watch?v=X2_hmrKQWOM\"  \n",
    "driver.get(url)\n",
    "\n",
    "# body태그를 읽어온다\n",
    "body = driver.find_element(By.TAG_NAME, 'body')\n",
    "body.send_keys(Keys.PAGE_DOWN)"
   ]
  }
 ],
 "metadata": {
  "kernelspec": {
   "display_name": "Python 3.9.12 ('base')",
   "language": "python",
   "name": "python3"
  },
  "language_info": {
   "codemirror_mode": {
    "name": "ipython",
    "version": 3
   },
   "file_extension": ".py",
   "mimetype": "text/x-python",
   "name": "python",
   "nbconvert_exporter": "python",
   "pygments_lexer": "ipython3",
   "version": "3.9.12"
  },
  "orig_nbformat": 4,
  "vscode": {
   "interpreter": {
    "hash": "a90aeebcf29d64a654773811cc170cb25061cb2498f10ac689db374c7bf325de"
   }
  }
 },
 "nbformat": 4,
 "nbformat_minor": 2
}
