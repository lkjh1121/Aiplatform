{
 "cells": [
  {
   "cell_type": "code",
   "execution_count": 1,
   "metadata": {},
   "outputs": [
    {
     "ename": "NoSuchWindowException",
     "evalue": "Message: no such window: target window already closed\nfrom unknown error: web view not found\n  (Session info: chrome=106.0.5249.121)\nStacktrace:\nBacktrace:\n\tOrdinal0 [0x00721ED3+2236115]\n\tOrdinal0 [0x006B92F1+1807089]\n\tOrdinal0 [0x005C66FD+812797]\n\tOrdinal0 [0x005ADFFA+712698]\n\tOrdinal0 [0x0061506B+1134699]\n\tOrdinal0 [0x0062514A+1200458]\n\tOrdinal0 [0x006118A6+1120422]\n\tOrdinal0 [0x005EA73D+960317]\n\tOrdinal0 [0x005EB71F+964383]\n\tGetHandleVerifier [0x009CE7E2+2743074]\n\tGetHandleVerifier [0x009C08D4+2685972]\n\tGetHandleVerifier [0x007B2BAA+532202]\n\tGetHandleVerifier [0x007B1990+527568]\n\tOrdinal0 [0x006C080C+1837068]\n\tOrdinal0 [0x006C4CD8+1854680]\n\tOrdinal0 [0x006C4DC5+1854917]\n\tOrdinal0 [0x006CED64+1895780]\n\tBaseThreadInitThunk [0x7576FA29+25]\n\tRtlGetAppContainerNamedObjectPath [0x77817BBE+286]\n\tRtlGetAppContainerNamedObjectPath [0x77817B8E+238]\n",
     "output_type": "error",
     "traceback": [
      "\u001b[1;31m---------------------------------------------------------------------------\u001b[0m",
      "\u001b[1;31mNoSuchWindowException\u001b[0m                     Traceback (most recent call last)",
      "\u001b[1;32mc:\\Users\\ASUS\\Desktop\\크롤링\\driver\\3_youtube2.ipynb 셀 1\u001b[0m in \u001b[0;36m<cell line: 20>\u001b[1;34m()\u001b[0m\n\u001b[0;32m     <a href='vscode-notebook-cell:/c%3A/Users/ASUS/Desktop/%ED%81%AC%EB%A1%A4%EB%A7%81/driver/3_youtube2.ipynb#W0sZmlsZQ%3D%3D?line=16'>17</a>\u001b[0m driver\u001b[39m.\u001b[39mimplicitly_wait(\u001b[39m3\u001b[39m)\n\u001b[0;32m     <a href='vscode-notebook-cell:/c%3A/Users/ASUS/Desktop/%ED%81%AC%EB%A1%A4%EB%A7%81/driver/3_youtube2.ipynb#W0sZmlsZQ%3D%3D?line=17'>18</a>\u001b[0m \u001b[39m# 구글 파일을 불러와서 내부에서 처리가 다 이루어짐\u001b[39;00m\n\u001b[1;32m---> <a href='vscode-notebook-cell:/c%3A/Users/ASUS/Desktop/%ED%81%AC%EB%A1%A4%EB%A7%81/driver/3_youtube2.ipynb#W0sZmlsZQ%3D%3D?line=19'>20</a>\u001b[0m search_box \u001b[39m=\u001b[39m driver\u001b[39m.\u001b[39;49mfind_element(By\u001b[39m.\u001b[39;49mNAME, \u001b[39m\"\u001b[39;49m\u001b[39msearch_query\u001b[39;49m\u001b[39m\"\u001b[39;49m)\n\u001b[0;32m     <a href='vscode-notebook-cell:/c%3A/Users/ASUS/Desktop/%ED%81%AC%EB%A1%A4%EB%A7%81/driver/3_youtube2.ipynb#W0sZmlsZQ%3D%3D?line=20'>21</a>\u001b[0m search_box\u001b[39m.\u001b[39msend_keys(\u001b[39m\"\u001b[39m\u001b[39m백종원\u001b[39m\u001b[39m\"\u001b[39m) \u001b[39m# 검색창에 글씨 출력\u001b[39;00m\n\u001b[0;32m     <a href='vscode-notebook-cell:/c%3A/Users/ASUS/Desktop/%ED%81%AC%EB%A1%A4%EB%A7%81/driver/3_youtube2.ipynb#W0sZmlsZQ%3D%3D?line=21'>22</a>\u001b[0m search_box\u001b[39m.\u001b[39msubmit()  \u001b[39m#서버로 현재 입력한 내용을 전송하라\u001b[39;00m\n",
      "File \u001b[1;32mc:\\Users\\ASUS\\anaconda3\\lib\\site-packages\\selenium\\webdriver\\remote\\webdriver.py:856\u001b[0m, in \u001b[0;36mWebDriver.find_element\u001b[1;34m(self, by, value)\u001b[0m\n\u001b[0;32m    853\u001b[0m     by \u001b[39m=\u001b[39m By\u001b[39m.\u001b[39mCSS_SELECTOR\n\u001b[0;32m    854\u001b[0m     value \u001b[39m=\u001b[39m \u001b[39m'\u001b[39m\u001b[39m[name=\u001b[39m\u001b[39m\"\u001b[39m\u001b[39m%s\u001b[39;00m\u001b[39m\"\u001b[39m\u001b[39m]\u001b[39m\u001b[39m'\u001b[39m \u001b[39m%\u001b[39m value\n\u001b[1;32m--> 856\u001b[0m \u001b[39mreturn\u001b[39;00m \u001b[39mself\u001b[39;49m\u001b[39m.\u001b[39;49mexecute(Command\u001b[39m.\u001b[39;49mFIND_ELEMENT, {\n\u001b[0;32m    857\u001b[0m     \u001b[39m'\u001b[39;49m\u001b[39musing\u001b[39;49m\u001b[39m'\u001b[39;49m: by,\n\u001b[0;32m    858\u001b[0m     \u001b[39m'\u001b[39;49m\u001b[39mvalue\u001b[39;49m\u001b[39m'\u001b[39;49m: value})[\u001b[39m'\u001b[39m\u001b[39mvalue\u001b[39m\u001b[39m'\u001b[39m]\n",
      "File \u001b[1;32mc:\\Users\\ASUS\\anaconda3\\lib\\site-packages\\selenium\\webdriver\\remote\\webdriver.py:429\u001b[0m, in \u001b[0;36mWebDriver.execute\u001b[1;34m(self, driver_command, params)\u001b[0m\n\u001b[0;32m    427\u001b[0m response \u001b[39m=\u001b[39m \u001b[39mself\u001b[39m\u001b[39m.\u001b[39mcommand_executor\u001b[39m.\u001b[39mexecute(driver_command, params)\n\u001b[0;32m    428\u001b[0m \u001b[39mif\u001b[39;00m response:\n\u001b[1;32m--> 429\u001b[0m     \u001b[39mself\u001b[39;49m\u001b[39m.\u001b[39;49merror_handler\u001b[39m.\u001b[39;49mcheck_response(response)\n\u001b[0;32m    430\u001b[0m     response[\u001b[39m'\u001b[39m\u001b[39mvalue\u001b[39m\u001b[39m'\u001b[39m] \u001b[39m=\u001b[39m \u001b[39mself\u001b[39m\u001b[39m.\u001b[39m_unwrap_value(\n\u001b[0;32m    431\u001b[0m         response\u001b[39m.\u001b[39mget(\u001b[39m'\u001b[39m\u001b[39mvalue\u001b[39m\u001b[39m'\u001b[39m, \u001b[39mNone\u001b[39;00m))\n\u001b[0;32m    432\u001b[0m     \u001b[39mreturn\u001b[39;00m response\n",
      "File \u001b[1;32mc:\\Users\\ASUS\\anaconda3\\lib\\site-packages\\selenium\\webdriver\\remote\\errorhandler.py:243\u001b[0m, in \u001b[0;36mErrorHandler.check_response\u001b[1;34m(self, response)\u001b[0m\n\u001b[0;32m    241\u001b[0m         alert_text \u001b[39m=\u001b[39m value[\u001b[39m'\u001b[39m\u001b[39malert\u001b[39m\u001b[39m'\u001b[39m]\u001b[39m.\u001b[39mget(\u001b[39m'\u001b[39m\u001b[39mtext\u001b[39m\u001b[39m'\u001b[39m)\n\u001b[0;32m    242\u001b[0m     \u001b[39mraise\u001b[39;00m exception_class(message, screen, stacktrace, alert_text)  \u001b[39m# type: ignore[call-arg]  # mypy is not smart enough here\u001b[39;00m\n\u001b[1;32m--> 243\u001b[0m \u001b[39mraise\u001b[39;00m exception_class(message, screen, stacktrace)\n",
      "\u001b[1;31mNoSuchWindowException\u001b[0m: Message: no such window: target window already closed\nfrom unknown error: web view not found\n  (Session info: chrome=106.0.5249.121)\nStacktrace:\nBacktrace:\n\tOrdinal0 [0x00721ED3+2236115]\n\tOrdinal0 [0x006B92F1+1807089]\n\tOrdinal0 [0x005C66FD+812797]\n\tOrdinal0 [0x005ADFFA+712698]\n\tOrdinal0 [0x0061506B+1134699]\n\tOrdinal0 [0x0062514A+1200458]\n\tOrdinal0 [0x006118A6+1120422]\n\tOrdinal0 [0x005EA73D+960317]\n\tOrdinal0 [0x005EB71F+964383]\n\tGetHandleVerifier [0x009CE7E2+2743074]\n\tGetHandleVerifier [0x009C08D4+2685972]\n\tGetHandleVerifier [0x007B2BAA+532202]\n\tGetHandleVerifier [0x007B1990+527568]\n\tOrdinal0 [0x006C080C+1837068]\n\tOrdinal0 [0x006C4CD8+1854680]\n\tOrdinal0 [0x006C4DC5+1854917]\n\tOrdinal0 [0x006CED64+1895780]\n\tBaseThreadInitThunk [0x7576FA29+25]\n\tRtlGetAppContainerNamedObjectPath [0x77817BBE+286]\n\tRtlGetAppContainerNamedObjectPath [0x77817B8E+238]\n"
     ]
    }
   ],
   "source": [
    "# 셀레니움은 크롬개발중에 만들어진 디버깅 툴\n",
    "# 이벤트를 발생시켜서 해야 할 경우(bs가 안될 경우, 유튜브처럼 무한으로 추천동영상이 제공되는 경우)\n",
    "from selenium import webdriver\n",
    "from selenium.webdriver.common.by import By\n",
    "from selenium.webdriver.common.keys import Keys\n",
    "from bs4 import BeautifulSoup\n",
    "import time\n",
    "\n",
    "dataList = []\n",
    "\n",
    "driver = webdriver.Chrome()  # 크롬드라이버파일을 로딩한다\n",
    "driver.implicitly_wait(3) # 3초만 대기, 브라우저가 켜지는 시간동안\n",
    "# driver가 가리키는 객체 안에 모든 정보가 다 들어있다.\n",
    "\n",
    "url = \"https://www.youtube.com/\"\n",
    "driver.get(url)  # 웹브라우저가 뜬다\n",
    "driver.implicitly_wait(3)\n",
    "# 구글 파일을 불러와서 내부에서 처리가 다 이루어짐\n",
    "\n",
    "search_box = driver.find_element(By.NAME, \"search_query\")\n",
    "search_box.send_keys(\"백종원\") # 검색창에 글씨 출력\n",
    "search_box.submit()  #서버로 현재 입력한 내용을 전송하라\n",
    "\n",
    "def pageDown(body, pageCnt):\n",
    "    for i in range(0, pageCnt):\n",
    "        body.send_keys(Keys.PAGE_DOWN)\n",
    "        time.sleep(2)\n",
    "\n",
    "def getComment(driver):\n",
    "    f = open('유튜브.txt', 'a', encoding='utf8')\n",
    "    body = driver.find_element(By.TAG_NAME, 'body')\n",
    "    pageDown(body, 5)\n",
    "    html = driver.page_source\n",
    "    soup = BeautifulSoup(html, 'html.parser')\n",
    "    commentList = soup.find_all(\"yt-formatted-string\", {\"class\":\"style-scope ytd-comment-renderer\"})\n",
    "\n",
    "    for comment in commentList:\n",
    "        print(comment.text, file = f)\n",
    "        \n",
    "    f.close()\n",
    "\n",
    "elements = driver.find_elements(By.ID, \"video-title\")\n",
    "for element in elements:\n",
    "    element.click()\n",
    "    time.sleep(3)\n",
    "    comments = getComment(driver)\n",
    "    driver.back()  \n",
    "\n",
    "driver.close()"
   ]
  },
  {
   "cell_type": "code",
   "execution_count": 10,
   "metadata": {},
   "outputs": [
    {
     "name": "stderr",
     "output_type": "stream",
     "text": [
      "C:\\Users\\ASUS\\AppData\\Local\\Temp\\ipykernel_1292\\96978082.py:9: DeprecationWarning: executable_path has been deprecated, please pass in a Service object\n",
      "  driver = webdriver.Chrome('./chromedriver.exe')\n"
     ]
    },
    {
     "ename": "ElementNotInteractableException",
     "evalue": "Message: element not interactable\n  (Session info: chrome=106.0.5249.121)\nStacktrace:\nBacktrace:\n\tOrdinal0 [0x00721ED3+2236115]\n\tOrdinal0 [0x006B92F1+1807089]\n\tOrdinal0 [0x005C65C0+812480]\n\tOrdinal0 [0x005F6586+1009030]\n\tOrdinal0 [0x005EC416+967702]\n\tOrdinal0 [0x00611A8C+1120908]\n\tOrdinal0 [0x005EBD84+966020]\n\tOrdinal0 [0x00611CA4+1121444]\n\tOrdinal0 [0x006259E2+1202658]\n\tOrdinal0 [0x006118A6+1120422]\n\tOrdinal0 [0x005EA73D+960317]\n\tOrdinal0 [0x005EB71F+964383]\n\tGetHandleVerifier [0x009CE7E2+2743074]\n\tGetHandleVerifier [0x009C08D4+2685972]\n\tGetHandleVerifier [0x007B2BAA+532202]\n\tGetHandleVerifier [0x007B1990+527568]\n\tOrdinal0 [0x006C080C+1837068]\n\tOrdinal0 [0x006C4CD8+1854680]\n\tOrdinal0 [0x006C4DC5+1854917]\n\tOrdinal0 [0x006CED64+1895780]\n\tBaseThreadInitThunk [0x7576FA29+25]\n\tRtlGetAppContainerNamedObjectPath [0x77817BBE+286]\n\tRtlGetAppContainerNamedObjectPath [0x77817B8E+238]\n",
     "output_type": "error",
     "traceback": [
      "\u001b[1;31m---------------------------------------------------------------------------\u001b[0m",
      "\u001b[1;31mElementNotInteractableException\u001b[0m           Traceback (most recent call last)",
      "\u001b[1;32mc:\\Users\\ASUS\\Desktop\\크롤링\\driver\\3_youtube2.ipynb 셀 2\u001b[0m in \u001b[0;36m<cell line: 18>\u001b[1;34m()\u001b[0m\n\u001b[0;32m     <a href='vscode-notebook-cell:/c%3A/Users/ASUS/Desktop/%ED%81%AC%EB%A1%A4%EB%A7%81/driver/3_youtube2.ipynb#W1sZmlsZQ%3D%3D?line=15'>16</a>\u001b[0m trList \u001b[39m=\u001b[39m tbody\u001b[39m.\u001b[39mfind_elements(By\u001b[39m.\u001b[39mTAG_NAME, \u001b[39m'\u001b[39m\u001b[39mtr\u001b[39m\u001b[39m'\u001b[39m)\n\u001b[0;32m     <a href='vscode-notebook-cell:/c%3A/Users/ASUS/Desktop/%ED%81%AC%EB%A1%A4%EB%A7%81/driver/3_youtube2.ipynb#W1sZmlsZQ%3D%3D?line=16'>17</a>\u001b[0m arrow \u001b[39m=\u001b[39m driver\u001b[39m.\u001b[39mfind_element(By\u001b[39m.\u001b[39mTAG_NAME, \u001b[39m'\u001b[39m\u001b[39mbutton\u001b[39m\u001b[39m'\u001b[39m)\n\u001b[1;32m---> <a href='vscode-notebook-cell:/c%3A/Users/ASUS/Desktop/%ED%81%AC%EB%A1%A4%EB%A7%81/driver/3_youtube2.ipynb#W1sZmlsZQ%3D%3D?line=17'>18</a>\u001b[0m arrow\u001b[39m.\u001b[39;49mclick()\n\u001b[0;32m     <a href='vscode-notebook-cell:/c%3A/Users/ASUS/Desktop/%ED%81%AC%EB%A1%A4%EB%A7%81/driver/3_youtube2.ipynb#W1sZmlsZQ%3D%3D?line=18'>19</a>\u001b[0m time \u001b[39m=\u001b[39m driver\u001b[39m.\u001b[39mfind_element(By\u001b[39m.\u001b[39mCLASS_NAME, \u001b[39m'\u001b[39m\u001b[39mtime_list\u001b[39m\u001b[39m'\u001b[39m)\n\u001b[0;32m     <a href='vscode-notebook-cell:/c%3A/Users/ASUS/Desktop/%ED%81%AC%EB%A1%A4%EB%A7%81/driver/3_youtube2.ipynb#W1sZmlsZQ%3D%3D?line=19'>20</a>\u001b[0m liList \u001b[39m=\u001b[39m time\u001b[39m.\u001b[39mfind_elements(By\u001b[39m.\u001b[39mTAG_NAME, \u001b[39m'\u001b[39m\u001b[39mli\u001b[39m\u001b[39m'\u001b[39m)\n",
      "File \u001b[1;32mc:\\Users\\ASUS\\anaconda3\\lib\\site-packages\\selenium\\webdriver\\remote\\webelement.py:88\u001b[0m, in \u001b[0;36mWebElement.click\u001b[1;34m(self)\u001b[0m\n\u001b[0;32m     86\u001b[0m \u001b[39mdef\u001b[39;00m \u001b[39mclick\u001b[39m(\u001b[39mself\u001b[39m) \u001b[39m-\u001b[39m\u001b[39m>\u001b[39m \u001b[39mNone\u001b[39;00m:\n\u001b[0;32m     87\u001b[0m     \u001b[39m\"\"\"Clicks the element.\"\"\"\u001b[39;00m\n\u001b[1;32m---> 88\u001b[0m     \u001b[39mself\u001b[39;49m\u001b[39m.\u001b[39;49m_execute(Command\u001b[39m.\u001b[39;49mCLICK_ELEMENT)\n",
      "File \u001b[1;32mc:\\Users\\ASUS\\anaconda3\\lib\\site-packages\\selenium\\webdriver\\remote\\webelement.py:396\u001b[0m, in \u001b[0;36mWebElement._execute\u001b[1;34m(self, command, params)\u001b[0m\n\u001b[0;32m    394\u001b[0m     params \u001b[39m=\u001b[39m {}\n\u001b[0;32m    395\u001b[0m params[\u001b[39m'\u001b[39m\u001b[39mid\u001b[39m\u001b[39m'\u001b[39m] \u001b[39m=\u001b[39m \u001b[39mself\u001b[39m\u001b[39m.\u001b[39m_id\n\u001b[1;32m--> 396\u001b[0m \u001b[39mreturn\u001b[39;00m \u001b[39mself\u001b[39;49m\u001b[39m.\u001b[39;49m_parent\u001b[39m.\u001b[39;49mexecute(command, params)\n",
      "File \u001b[1;32mc:\\Users\\ASUS\\anaconda3\\lib\\site-packages\\selenium\\webdriver\\remote\\webdriver.py:429\u001b[0m, in \u001b[0;36mWebDriver.execute\u001b[1;34m(self, driver_command, params)\u001b[0m\n\u001b[0;32m    427\u001b[0m response \u001b[39m=\u001b[39m \u001b[39mself\u001b[39m\u001b[39m.\u001b[39mcommand_executor\u001b[39m.\u001b[39mexecute(driver_command, params)\n\u001b[0;32m    428\u001b[0m \u001b[39mif\u001b[39;00m response:\n\u001b[1;32m--> 429\u001b[0m     \u001b[39mself\u001b[39;49m\u001b[39m.\u001b[39;49merror_handler\u001b[39m.\u001b[39;49mcheck_response(response)\n\u001b[0;32m    430\u001b[0m     response[\u001b[39m'\u001b[39m\u001b[39mvalue\u001b[39m\u001b[39m'\u001b[39m] \u001b[39m=\u001b[39m \u001b[39mself\u001b[39m\u001b[39m.\u001b[39m_unwrap_value(\n\u001b[0;32m    431\u001b[0m         response\u001b[39m.\u001b[39mget(\u001b[39m'\u001b[39m\u001b[39mvalue\u001b[39m\u001b[39m'\u001b[39m, \u001b[39mNone\u001b[39;00m))\n\u001b[0;32m    432\u001b[0m     \u001b[39mreturn\u001b[39;00m response\n",
      "File \u001b[1;32mc:\\Users\\ASUS\\anaconda3\\lib\\site-packages\\selenium\\webdriver\\remote\\errorhandler.py:243\u001b[0m, in \u001b[0;36mErrorHandler.check_response\u001b[1;34m(self, response)\u001b[0m\n\u001b[0;32m    241\u001b[0m         alert_text \u001b[39m=\u001b[39m value[\u001b[39m'\u001b[39m\u001b[39malert\u001b[39m\u001b[39m'\u001b[39m]\u001b[39m.\u001b[39mget(\u001b[39m'\u001b[39m\u001b[39mtext\u001b[39m\u001b[39m'\u001b[39m)\n\u001b[0;32m    242\u001b[0m     \u001b[39mraise\u001b[39;00m exception_class(message, screen, stacktrace, alert_text)  \u001b[39m# type: ignore[call-arg]  # mypy is not smart enough here\u001b[39;00m\n\u001b[1;32m--> 243\u001b[0m \u001b[39mraise\u001b[39;00m exception_class(message, screen, stacktrace)\n",
      "\u001b[1;31mElementNotInteractableException\u001b[0m: Message: element not interactable\n  (Session info: chrome=106.0.5249.121)\nStacktrace:\nBacktrace:\n\tOrdinal0 [0x00721ED3+2236115]\n\tOrdinal0 [0x006B92F1+1807089]\n\tOrdinal0 [0x005C65C0+812480]\n\tOrdinal0 [0x005F6586+1009030]\n\tOrdinal0 [0x005EC416+967702]\n\tOrdinal0 [0x00611A8C+1120908]\n\tOrdinal0 [0x005EBD84+966020]\n\tOrdinal0 [0x00611CA4+1121444]\n\tOrdinal0 [0x006259E2+1202658]\n\tOrdinal0 [0x006118A6+1120422]\n\tOrdinal0 [0x005EA73D+960317]\n\tOrdinal0 [0x005EB71F+964383]\n\tGetHandleVerifier [0x009CE7E2+2743074]\n\tGetHandleVerifier [0x009C08D4+2685972]\n\tGetHandleVerifier [0x007B2BAA+532202]\n\tGetHandleVerifier [0x007B1990+527568]\n\tOrdinal0 [0x006C080C+1837068]\n\tOrdinal0 [0x006C4CD8+1854680]\n\tOrdinal0 [0x006C4DC5+1854917]\n\tOrdinal0 [0x006CED64+1895780]\n\tBaseThreadInitThunk [0x7576FA29+25]\n\tRtlGetAppContainerNamedObjectPath [0x77817BBE+286]\n\tRtlGetAppContainerNamedObjectPath [0x77817B8E+238]\n"
     ]
    }
   ],
   "source": [
    "from selenium import webdriver\n",
    "from selenium.webdriver.common.keys import Keys\n",
    "from selenium.webdriver.common.by import By\n",
    "import pandas as pd\n",
    "import numpy as np\n",
    "from bs4 import BeautifulSoup\n",
    "import time\n",
    "\n",
    "driver = webdriver.Chrome('./chromedriver.exe')\n",
    "url = 'https://www.melon.com/'\n",
    "driver.get(url)\n",
    "driver.implicitly_wait(5)\n",
    "char = driver.find_element(By.CLASS_NAME, 'nth1')\n",
    "char.click()\n",
    "tbody = driver.find_element(By.TAG_NAME, 'tbody')\n",
    "trList = tbody.find_elements(By.TAG_NAME, 'tr')\n",
    "arrow = driver.find_element(By.TAG_NAME, 'button')\n",
    "arrow.click()\n",
    "time = driver.find_element(By.CLASS_NAME, 'time_list')\n",
    "liList = time.find_elements(By.TAG_NAME, 'li')\n",
    "for li in liList:\n",
    "    time.sleep(4)\n",
    "    li.click()\n",
    "    time.sleep(4)\n",
    "# temp_list = []\n",
    "# for tr in trList:\n",
    "#     row = tr.text.split('\\n')\n",
    "#     row.pop(4)\n",
    "#     temp_list.append(row)\n",
    "# df = pd.DataFrame(temp_list, columns=['순위', '곡 제목', '가수', '앨범 명', '좋아요 수'])\n",
    "# df.to_csv('melon.csv', encoding='utf-8-sig', index=False)"
   ]
  }
 ],
 "metadata": {
  "kernelspec": {
   "display_name": "Python 3.9.12 ('base')",
   "language": "python",
   "name": "python3"
  },
  "language_info": {
   "codemirror_mode": {
    "name": "ipython",
    "version": 3
   },
   "file_extension": ".py",
   "mimetype": "text/x-python",
   "name": "python",
   "nbconvert_exporter": "python",
   "pygments_lexer": "ipython3",
   "version": "3.9.12"
  },
  "orig_nbformat": 4,
  "vscode": {
   "interpreter": {
    "hash": "a90aeebcf29d64a654773811cc170cb25061cb2498f10ac689db374c7bf325de"
   }
  }
 },
 "nbformat": 4,
 "nbformat_minor": 2
}
